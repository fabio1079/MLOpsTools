{
 "cells": [
  {
   "cell_type": "code",
   "execution_count": 1,
   "id": "7cd08287",
   "metadata": {},
   "outputs": [],
   "source": [
    "import pandas as pd"
   ]
  },
  {
   "cell_type": "code",
   "execution_count": 2,
   "id": "fe7cfb31",
   "metadata": {},
   "outputs": [],
   "source": [
    "import matplotlib.pyplot as plt"
   ]
  },
  {
   "cell_type": "code",
   "execution_count": 3,
   "id": "fe894cc5",
   "metadata": {},
   "outputs": [],
   "source": [
    "from mlopstools.updatecsv import csv_folderpath"
   ]
  },
  {
   "cell_type": "code",
   "execution_count": 4,
   "id": "0e7a9449",
   "metadata": {},
   "outputs": [],
   "source": [
    "file = f\"{csv_folderpath()}/2021-05-09.csv\"\n",
    "df = pd.read_csv(file, sep=\";\")"
   ]
  },
  {
   "cell_type": "code",
   "execution_count": 5,
   "id": "ec8d9096",
   "metadata": {},
   "outputs": [
    {
     "data": {
      "text/html": [
       "<div>\n",
       "<style scoped>\n",
       "    .dataframe tbody tr th:only-of-type {\n",
       "        vertical-align: middle;\n",
       "    }\n",
       "\n",
       "    .dataframe tbody tr th {\n",
       "        vertical-align: top;\n",
       "    }\n",
       "\n",
       "    .dataframe thead th {\n",
       "        text-align: right;\n",
       "    }\n",
       "</style>\n",
       "<table border=\"1\" class=\"dataframe\">\n",
       "  <thead>\n",
       "    <tr style=\"text-align: right;\">\n",
       "      <th></th>\n",
       "      <th>gspread_row</th>\n",
       "      <th>owner</th>\n",
       "      <th>name</th>\n",
       "      <th>main_branch</th>\n",
       "      <th>total_commits</th>\n",
       "      <th>last_commit_check</th>\n",
       "      <th>fork_count</th>\n",
       "      <th>stars_count</th>\n",
       "      <th>watchers_count</th>\n",
       "      <th>license_name</th>\n",
       "      <th>primary_language</th>\n",
       "      <th>is_archived</th>\n",
       "    </tr>\n",
       "  </thead>\n",
       "  <tbody>\n",
       "    <tr>\n",
       "      <th>0</th>\n",
       "      <td>2</td>\n",
       "      <td>awslabs</td>\n",
       "      <td>autogluon</td>\n",
       "      <td>master</td>\n",
       "      <td>597</td>\n",
       "      <td>False</td>\n",
       "      <td>410</td>\n",
       "      <td>3185</td>\n",
       "      <td>82</td>\n",
       "      <td>Apache License 2.0</td>\n",
       "      <td>Python</td>\n",
       "      <td>False</td>\n",
       "    </tr>\n",
       "    <tr>\n",
       "      <th>1</th>\n",
       "      <td>3</td>\n",
       "      <td>keras-team</td>\n",
       "      <td>autokeras</td>\n",
       "      <td>master</td>\n",
       "      <td>1251</td>\n",
       "      <td>False</td>\n",
       "      <td>1282</td>\n",
       "      <td>7939</td>\n",
       "      <td>301</td>\n",
       "      <td>Apache License 2.0</td>\n",
       "      <td>Python</td>\n",
       "      <td>False</td>\n",
       "    </tr>\n",
       "    <tr>\n",
       "      <th>2</th>\n",
       "      <td>4</td>\n",
       "      <td>automl</td>\n",
       "      <td>Auto-PyTorch</td>\n",
       "      <td>master</td>\n",
       "      <td>127</td>\n",
       "      <td>False</td>\n",
       "      <td>149</td>\n",
       "      <td>1216</td>\n",
       "      <td>43</td>\n",
       "      <td>Apache License 2.0</td>\n",
       "      <td>Python</td>\n",
       "      <td>False</td>\n",
       "    </tr>\n",
       "    <tr>\n",
       "      <th>3</th>\n",
       "      <td>5</td>\n",
       "      <td>automl</td>\n",
       "      <td>auto-sklearn</td>\n",
       "      <td>master</td>\n",
       "      <td>2457</td>\n",
       "      <td>False</td>\n",
       "      <td>1014</td>\n",
       "      <td>5400</td>\n",
       "      <td>219</td>\n",
       "      <td>Other</td>\n",
       "      <td>Python</td>\n",
       "      <td>False</td>\n",
       "    </tr>\n",
       "    <tr>\n",
       "      <th>4</th>\n",
       "      <td>6</td>\n",
       "      <td>AxeldeRomblay</td>\n",
       "      <td>MLBox</td>\n",
       "      <td>master</td>\n",
       "      <td>1121</td>\n",
       "      <td>True</td>\n",
       "      <td>254</td>\n",
       "      <td>1220</td>\n",
       "      <td>67</td>\n",
       "      <td>Other</td>\n",
       "      <td>Python</td>\n",
       "      <td>False</td>\n",
       "    </tr>\n",
       "  </tbody>\n",
       "</table>\n",
       "</div>"
      ],
      "text/plain": [
       "   gspread_row          owner          name main_branch  total_commits  \\\n",
       "0            2        awslabs     autogluon      master            597   \n",
       "1            3     keras-team     autokeras      master           1251   \n",
       "2            4         automl  Auto-PyTorch      master            127   \n",
       "3            5         automl  auto-sklearn      master           2457   \n",
       "4            6  AxeldeRomblay         MLBox      master           1121   \n",
       "\n",
       "   last_commit_check  fork_count  stars_count  watchers_count  \\\n",
       "0              False         410         3185              82   \n",
       "1              False        1282         7939             301   \n",
       "2              False         149         1216              43   \n",
       "3              False        1014         5400             219   \n",
       "4               True         254         1220              67   \n",
       "\n",
       "         license_name primary_language  is_archived  \n",
       "0  Apache License 2.0           Python        False  \n",
       "1  Apache License 2.0           Python        False  \n",
       "2  Apache License 2.0           Python        False  \n",
       "3               Other           Python        False  \n",
       "4               Other           Python        False  "
      ]
     },
     "execution_count": 5,
     "metadata": {},
     "output_type": "execute_result"
    }
   ],
   "source": [
    "df.head()"
   ]
  },
  {
   "cell_type": "code",
   "execution_count": 7,
   "id": "04bb6fa9",
   "metadata": {},
   "outputs": [],
   "source": [
    "licences = df['license_name']"
   ]
  },
  {
   "cell_type": "code",
   "execution_count": 12,
   "id": "63db5e9c",
   "metadata": {},
   "outputs": [
    {
     "data": {
      "text/plain": [
       "count                     80\n",
       "unique                     8\n",
       "top       Apache License 2.0\n",
       "freq                      49\n",
       "Name: license_name, dtype: object"
      ]
     },
     "execution_count": 12,
     "metadata": {},
     "output_type": "execute_result"
    }
   ],
   "source": [
    "licences.describe()"
   ]
  },
  {
   "cell_type": "code",
   "execution_count": 15,
   "id": "a5fbbca9",
   "metadata": {},
   "outputs": [],
   "source": [
    "labels = licences.unique()"
   ]
  },
  {
   "cell_type": "code",
   "execution_count": 23,
   "id": "aac7f817",
   "metadata": {},
   "outputs": [
    {
     "data": {
      "text/plain": [
       "Apache License 2.0                         49\n",
       "Other                                      11\n",
       "MIT License                                 9\n",
       "BSD 3-Clause \"New\" or \"Revised\" License     4\n",
       "BSD 2-Clause \"Simplified\" License           3\n",
       "GNU General Public License v3.0             2\n",
       "GNU Lesser General Public License v3.0      1\n",
       "ISC License                                 1\n",
       "Name: license_name, dtype: int64"
      ]
     },
     "execution_count": 23,
     "metadata": {},
     "output_type": "execute_result"
    }
   ],
   "source": [
    "licences.value_counts()"
   ]
  },
  {
   "cell_type": "code",
   "execution_count": 24,
   "id": "a3067eff",
   "metadata": {},
   "outputs": [],
   "source": [
    "values = licences.value_counts()"
   ]
  },
  {
   "cell_type": "code",
   "execution_count": 68,
   "id": "ab0bc326",
   "metadata": {},
   "outputs": [
    {
     "data": {
      "image/png": "[encoded data removed]",
      "text/plain": [
       "<Figure size 648x648 with 1 Axes>"
      ]
     },
     "metadata": {},
     "output_type": "display_data"
    }
   ],
   "source": [
    "fig1, ax = plt.subplots(figsize=(9, 9))\n",
    "fig1.subplots_adjust(0.3,0,1,1)\n",
    "\n",
    "wedges, texts, autotexts = ax.pie(values, autopct=\"%1.1f%%\", startangle=180)\n",
    "\n",
    "ax.legend(\n",
    "    wedges,\n",
    "    labels,\n",
    "    prop={'size': 11},\n",
    "    bbox_to_anchor=(1.0, 0.8),\n",
    ")\n",
    "plt.setp(autotexts, size=8)\n",
    "\n",
    "ax.set_title(\"Licenças\")\n",
    "plt.show()"
   ]
  },
  {
   "cell_type": "code",
   "execution_count": null,
   "id": "2a3a05bc",
   "metadata": {},
   "outputs": [],
   "source": []
  }
 ],
 "metadata": {
  "kernelspec": {
   "display_name": "Python 3",
   "language": "python",
   "name": "python3"
  },
  "language_info": {
   "codemirror_mode": {
    "name": "ipython",
    "version": 3
   },
   "file_extension": ".py",
   "mimetype": "text/x-python",
   "name": "python",
   "nbconvert_exporter": "python",
   "pygments_lexer": "ipython3",
   "version": "3.9.0"
  }
 },
 "nbformat": 4,
 "nbformat_minor": 5
}
