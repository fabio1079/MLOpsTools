{
 "cells": [
  {
   "cell_type": "code",
   "execution_count": 1,
   "metadata": {
    "id": "eSvCmvmJrzV7"
   },
   "outputs": [],
   "source": [
    "import pandas as pd"
   ]
  },
  {
   "cell_type": "code",
   "execution_count": 2,
   "metadata": {
    "id": "2LugT0POsBZI"
   },
   "outputs": [],
   "source": [
    "import matplotlib.pyplot as plt"
   ]
  },
  {
   "cell_type": "code",
   "execution_count": 3,
   "metadata": {
    "id": "xQ8YIv8dsJTh"
   },
   "outputs": [],
   "source": [
    "df = pd.read_csv(\"https://raw.githubusercontent.com/fabio1079/MLOpsTools/main/mlopstools/csvdata/2021-05-10.csv\", sep=\";\")"
   ]
  },
  {
   "cell_type": "code",
   "execution_count": 4,
   "metadata": {
    "colab": {
     "base_uri": "https://localhost:8080/",
     "height": 296
    },
    "id": "No1weDcQtDNv",
    "outputId": "7d8b6a05-9408-49b1-bad4-4810b12b7ed6"
   },
   "outputs": [
    {
     "data": {
      "text/html": [
       "<div>\n",
       "<style scoped>\n",
       "    .dataframe tbody tr th:only-of-type {\n",
       "        vertical-align: middle;\n",
       "    }\n",
       "\n",
       "    .dataframe tbody tr th {\n",
       "        vertical-align: top;\n",
       "    }\n",
       "\n",
       "    .dataframe thead th {\n",
       "        text-align: right;\n",
       "    }\n",
       "</style>\n",
       "<table border=\"1\" class=\"dataframe\">\n",
       "  <thead>\n",
       "    <tr style=\"text-align: right;\">\n",
       "      <th></th>\n",
       "      <th>gspread_row</th>\n",
       "      <th>use_area</th>\n",
       "      <th>tool_name</th>\n",
       "      <th>repo_owner</th>\n",
       "      <th>repo_name</th>\n",
       "      <th>main_branch</th>\n",
       "      <th>total_commits</th>\n",
       "      <th>last_commit_check</th>\n",
       "      <th>fork_count</th>\n",
       "      <th>stars_count</th>\n",
       "      <th>watchers_count</th>\n",
       "      <th>license_name</th>\n",
       "      <th>primary_language</th>\n",
       "      <th>is_archived</th>\n",
       "      <th>open_issues</th>\n",
       "      <th>closed_issues</th>\n",
       "    </tr>\n",
       "  </thead>\n",
       "  <tbody>\n",
       "    <tr>\n",
       "      <th>0</th>\n",
       "      <td>2</td>\n",
       "      <td>AutoML</td>\n",
       "      <td>AutoGluon</td>\n",
       "      <td>awslabs</td>\n",
       "      <td>autogluon</td>\n",
       "      <td>master</td>\n",
       "      <td>600</td>\n",
       "      <td>False</td>\n",
       "      <td>413</td>\n",
       "      <td>3212</td>\n",
       "      <td>82</td>\n",
       "      <td>Apache License 2.0</td>\n",
       "      <td>Python</td>\n",
       "      <td>False</td>\n",
       "      <td>89</td>\n",
       "      <td>346</td>\n",
       "    </tr>\n",
       "    <tr>\n",
       "      <th>1</th>\n",
       "      <td>3</td>\n",
       "      <td>AutoML</td>\n",
       "      <td>AutoKeras</td>\n",
       "      <td>keras-team</td>\n",
       "      <td>autokeras</td>\n",
       "      <td>master</td>\n",
       "      <td>1251</td>\n",
       "      <td>False</td>\n",
       "      <td>1282</td>\n",
       "      <td>7941</td>\n",
       "      <td>301</td>\n",
       "      <td>Apache License 2.0</td>\n",
       "      <td>Python</td>\n",
       "      <td>False</td>\n",
       "      <td>67</td>\n",
       "      <td>669</td>\n",
       "    </tr>\n",
       "    <tr>\n",
       "      <th>2</th>\n",
       "      <td>4</td>\n",
       "      <td>AutoML</td>\n",
       "      <td>AutoPyTorch</td>\n",
       "      <td>automl</td>\n",
       "      <td>Auto-PyTorch</td>\n",
       "      <td>master</td>\n",
       "      <td>127</td>\n",
       "      <td>False</td>\n",
       "      <td>150</td>\n",
       "      <td>1218</td>\n",
       "      <td>43</td>\n",
       "      <td>Apache License 2.0</td>\n",
       "      <td>Python</td>\n",
       "      <td>False</td>\n",
       "      <td>52</td>\n",
       "      <td>68</td>\n",
       "    </tr>\n",
       "    <tr>\n",
       "      <th>3</th>\n",
       "      <td>5</td>\n",
       "      <td>AutoML</td>\n",
       "      <td>AutoSKLearn</td>\n",
       "      <td>automl</td>\n",
       "      <td>auto-sklearn</td>\n",
       "      <td>master</td>\n",
       "      <td>2457</td>\n",
       "      <td>False</td>\n",
       "      <td>1017</td>\n",
       "      <td>5403</td>\n",
       "      <td>220</td>\n",
       "      <td>Other</td>\n",
       "      <td>Python</td>\n",
       "      <td>False</td>\n",
       "      <td>96</td>\n",
       "      <td>612</td>\n",
       "    </tr>\n",
       "    <tr>\n",
       "      <th>4</th>\n",
       "      <td>6</td>\n",
       "      <td>AutoML</td>\n",
       "      <td>MLBox</td>\n",
       "      <td>AxeldeRomblay</td>\n",
       "      <td>MLBox</td>\n",
       "      <td>master</td>\n",
       "      <td>1121</td>\n",
       "      <td>True</td>\n",
       "      <td>254</td>\n",
       "      <td>1221</td>\n",
       "      <td>67</td>\n",
       "      <td>Other</td>\n",
       "      <td>Python</td>\n",
       "      <td>False</td>\n",
       "      <td>13</td>\n",
       "      <td>73</td>\n",
       "    </tr>\n",
       "  </tbody>\n",
       "</table>\n",
       "</div>"
      ],
      "text/plain": [
       "   gspread_row use_area    tool_name     repo_owner     repo_name main_branch  \\\n",
       "0            2   AutoML    AutoGluon        awslabs     autogluon      master   \n",
       "1            3   AutoML    AutoKeras     keras-team     autokeras      master   \n",
       "2            4   AutoML  AutoPyTorch         automl  Auto-PyTorch      master   \n",
       "3            5   AutoML  AutoSKLearn         automl  auto-sklearn      master   \n",
       "4            6   AutoML        MLBox  AxeldeRomblay         MLBox      master   \n",
       "\n",
       "   total_commits  last_commit_check  fork_count  stars_count  watchers_count  \\\n",
       "0            600              False         413         3212              82   \n",
       "1           1251              False        1282         7941             301   \n",
       "2            127              False         150         1218              43   \n",
       "3           2457              False        1017         5403             220   \n",
       "4           1121               True         254         1221              67   \n",
       "\n",
       "         license_name primary_language  is_archived  open_issues  \\\n",
       "0  Apache License 2.0           Python        False           89   \n",
       "1  Apache License 2.0           Python        False           67   \n",
       "2  Apache License 2.0           Python        False           52   \n",
       "3               Other           Python        False           96   \n",
       "4               Other           Python        False           13   \n",
       "\n",
       "   closed_issues  \n",
       "0            346  \n",
       "1            669  \n",
       "2             68  \n",
       "3            612  \n",
       "4             73  "
      ]
     },
     "execution_count": 4,
     "metadata": {},
     "output_type": "execute_result"
    }
   ],
   "source": [
    "df.head()"
   ]
  },
  {
   "cell_type": "code",
   "execution_count": 5,
   "metadata": {
    "id": "xD4_fUPYtGrX"
   },
   "outputs": [],
   "source": [
    "def rank_tool(archived: bool, commit_check: bool, open_license:bool, open_issues:int, closed_issues:int, watchers:int, stars:int, forks:int, commits:int):\n",
    "  if archived or commit_check:\n",
    "    return 0.0\n",
    "\n",
    "  if not open_license:\n",
    "    return 0.0\n",
    "\n",
    "  total_issues = open_issues + closed_issues\n",
    "  issue_rank = closed_issues / total_issues if total_issues > 0 else 0.0\n",
    "\n",
    "  calc = watchers*1 + stars*1 + forks*1 + issue_rank *1.5 + commits*2\n",
    "  calc = calc / (1 + 1 + 1 + 1.5 + 2)\n",
    "\n",
    "  return calc"
   ]
  },
  {
   "cell_type": "code",
   "execution_count": 6,
   "metadata": {
    "id": "wozKHMjIuTG7"
   },
   "outputs": [],
   "source": [
    "ranks = []\n",
    "for index, row in df.iterrows():\n",
    "  rank = rank_tool(\n",
    "      row['is_archived'],\n",
    "      row['last_commit_check'],\n",
    "      row['license_name'] != 'Other',\n",
    "      row['open_issues'],\n",
    "      row['closed_issues'],\n",
    "      row['watchers_count'],\n",
    "      row['stars_count'],\n",
    "      row['fork_count'],\n",
    "      row['total_commits'])\n",
    "  ranks.append(rank)"
   ]
  },
  {
   "cell_type": "code",
   "execution_count": 7,
   "metadata": {
    "id": "1I6lq_AFwYMD"
   },
   "outputs": [],
   "source": [
    "df = df.assign(rank=ranks)"
   ]
  },
  {
   "cell_type": "code",
   "execution_count": 8,
   "metadata": {
    "id": "D0GbjeOTygpR"
   },
   "outputs": [],
   "source": [
    "disqualified = df.loc[df['rank'] == 0]\n",
    "qualified = df.loc[df['rank'] > 0]"
   ]
  },
  {
   "cell_type": "code",
   "execution_count": 9,
   "metadata": {
    "colab": {
     "base_uri": "https://localhost:8080/",
     "height": 619
    },
    "id": "Qn1AKpFhzxhm",
    "outputId": "05c94409-f94b-4606-bce7-20230a1cbb21"
   },
   "outputs": [
    {
     "data": {
      "text/html": [
       "<div>\n",
       "<style scoped>\n",
       "    .dataframe tbody tr th:only-of-type {\n",
       "        vertical-align: middle;\n",
       "    }\n",
       "\n",
       "    .dataframe tbody tr th {\n",
       "        vertical-align: top;\n",
       "    }\n",
       "\n",
       "    .dataframe thead th {\n",
       "        text-align: right;\n",
       "    }\n",
       "</style>\n",
       "<table border=\"1\" class=\"dataframe\">\n",
       "  <thead>\n",
       "    <tr style=\"text-align: right;\">\n",
       "      <th></th>\n",
       "      <th>gspread_row</th>\n",
       "      <th>use_area</th>\n",
       "      <th>tool_name</th>\n",
       "      <th>repo_owner</th>\n",
       "      <th>repo_name</th>\n",
       "      <th>main_branch</th>\n",
       "      <th>total_commits</th>\n",
       "      <th>last_commit_check</th>\n",
       "      <th>fork_count</th>\n",
       "      <th>stars_count</th>\n",
       "      <th>watchers_count</th>\n",
       "      <th>license_name</th>\n",
       "      <th>primary_language</th>\n",
       "      <th>is_archived</th>\n",
       "      <th>open_issues</th>\n",
       "      <th>closed_issues</th>\n",
       "      <th>rank</th>\n",
       "    </tr>\n",
       "  </thead>\n",
       "  <tbody>\n",
       "    <tr>\n",
       "      <th>3</th>\n",
       "      <td>5</td>\n",
       "      <td>AutoML</td>\n",
       "      <td>AutoSKLearn</td>\n",
       "      <td>automl</td>\n",
       "      <td>auto-sklearn</td>\n",
       "      <td>master</td>\n",
       "      <td>2457</td>\n",
       "      <td>False</td>\n",
       "      <td>1017</td>\n",
       "      <td>5403</td>\n",
       "      <td>220</td>\n",
       "      <td>Other</td>\n",
       "      <td>Python</td>\n",
       "      <td>False</td>\n",
       "      <td>96</td>\n",
       "      <td>612</td>\n",
       "      <td>0.0</td>\n",
       "    </tr>\n",
       "    <tr>\n",
       "      <th>4</th>\n",
       "      <td>6</td>\n",
       "      <td>AutoML</td>\n",
       "      <td>MLBox</td>\n",
       "      <td>AxeldeRomblay</td>\n",
       "      <td>MLBox</td>\n",
       "      <td>master</td>\n",
       "      <td>1121</td>\n",
       "      <td>True</td>\n",
       "      <td>254</td>\n",
       "      <td>1221</td>\n",
       "      <td>67</td>\n",
       "      <td>Other</td>\n",
       "      <td>Python</td>\n",
       "      <td>False</td>\n",
       "      <td>13</td>\n",
       "      <td>73</td>\n",
       "      <td>0.0</td>\n",
       "    </tr>\n",
       "    <tr>\n",
       "      <th>6</th>\n",
       "      <td>8</td>\n",
       "      <td>Cron Job Monitoring</td>\n",
       "      <td>minicron</td>\n",
       "      <td>jamesrwhite</td>\n",
       "      <td>minicron</td>\n",
       "      <td>master</td>\n",
       "      <td>1249</td>\n",
       "      <td>True</td>\n",
       "      <td>165</td>\n",
       "      <td>2344</td>\n",
       "      <td>83</td>\n",
       "      <td>GNU General Public License v3.0</td>\n",
       "      <td>Ruby</td>\n",
       "      <td>False</td>\n",
       "      <td>44</td>\n",
       "      <td>190</td>\n",
       "      <td>0.0</td>\n",
       "    </tr>\n",
       "    <tr>\n",
       "      <th>9</th>\n",
       "      <td>11</td>\n",
       "      <td>Data Exploration</td>\n",
       "      <td>Jupyter Notebook</td>\n",
       "      <td>jupyter</td>\n",
       "      <td>notebook</td>\n",
       "      <td>master</td>\n",
       "      <td>12046</td>\n",
       "      <td>False</td>\n",
       "      <td>3391</td>\n",
       "      <td>8239</td>\n",
       "      <td>317</td>\n",
       "      <td>Other</td>\n",
       "      <td>JavaScript</td>\n",
       "      <td>False</td>\n",
       "      <td>1985</td>\n",
       "      <td>2223</td>\n",
       "      <td>0.0</td>\n",
       "    </tr>\n",
       "    <tr>\n",
       "      <th>21</th>\n",
       "      <td>25</td>\n",
       "      <td>Data Visualization</td>\n",
       "      <td>Metabase</td>\n",
       "      <td>metabase</td>\n",
       "      <td>metabase</td>\n",
       "      <td>master</td>\n",
       "      <td>20588</td>\n",
       "      <td>False</td>\n",
       "      <td>3313</td>\n",
       "      <td>24761</td>\n",
       "      <td>635</td>\n",
       "      <td>Other</td>\n",
       "      <td>Clojure</td>\n",
       "      <td>False</td>\n",
       "      <td>2086</td>\n",
       "      <td>6788</td>\n",
       "      <td>0.0</td>\n",
       "    </tr>\n",
       "    <tr>\n",
       "      <th>28</th>\n",
       "      <td>33</td>\n",
       "      <td>Hyperparameter Tuning</td>\n",
       "      <td>Hyperopt</td>\n",
       "      <td>hyperopt</td>\n",
       "      <td>hyperopt</td>\n",
       "      <td>master</td>\n",
       "      <td>1172</td>\n",
       "      <td>False</td>\n",
       "      <td>883</td>\n",
       "      <td>5591</td>\n",
       "      <td>129</td>\n",
       "      <td>Other</td>\n",
       "      <td>Python</td>\n",
       "      <td>False</td>\n",
       "      <td>341</td>\n",
       "      <td>225</td>\n",
       "      <td>0.0</td>\n",
       "    </tr>\n",
       "    <tr>\n",
       "      <th>45</th>\n",
       "      <td>53</td>\n",
       "      <td>Model Serving</td>\n",
       "      <td>PredictionIO</td>\n",
       "      <td>apache</td>\n",
       "      <td>attic-predictionio</td>\n",
       "      <td>develop</td>\n",
       "      <td>4495</td>\n",
       "      <td>True</td>\n",
       "      <td>2021</td>\n",
       "      <td>12508</td>\n",
       "      <td>773</td>\n",
       "      <td>Apache License 2.0</td>\n",
       "      <td>Scala</td>\n",
       "      <td>True</td>\n",
       "      <td>0</td>\n",
       "      <td>0</td>\n",
       "      <td>0.0</td>\n",
       "    </tr>\n",
       "    <tr>\n",
       "      <th>52</th>\n",
       "      <td>61</td>\n",
       "      <td>Optimization Tools</td>\n",
       "      <td>Horovod</td>\n",
       "      <td>horovod</td>\n",
       "      <td>horovod</td>\n",
       "      <td>master</td>\n",
       "      <td>930</td>\n",
       "      <td>False</td>\n",
       "      <td>1822</td>\n",
       "      <td>11183</td>\n",
       "      <td>333</td>\n",
       "      <td>Other</td>\n",
       "      <td>Python</td>\n",
       "      <td>False</td>\n",
       "      <td>223</td>\n",
       "      <td>1550</td>\n",
       "      <td>0.0</td>\n",
       "    </tr>\n",
       "    <tr>\n",
       "      <th>54</th>\n",
       "      <td>64</td>\n",
       "      <td>Optimization Tools</td>\n",
       "      <td>Modin</td>\n",
       "      <td>modin-project</td>\n",
       "      <td>modin</td>\n",
       "      <td>master</td>\n",
       "      <td>1359</td>\n",
       "      <td>False</td>\n",
       "      <td>432</td>\n",
       "      <td>6035</td>\n",
       "      <td>107</td>\n",
       "      <td>Other</td>\n",
       "      <td>Python</td>\n",
       "      <td>False</td>\n",
       "      <td>497</td>\n",
       "      <td>1214</td>\n",
       "      <td>0.0</td>\n",
       "    </tr>\n",
       "    <tr>\n",
       "      <th>62</th>\n",
       "      <td>73</td>\n",
       "      <td>Simplification Tools</td>\n",
       "      <td>PyCaret</td>\n",
       "      <td>pycaret</td>\n",
       "      <td>pycaret</td>\n",
       "      <td>master</td>\n",
       "      <td>1737</td>\n",
       "      <td>False</td>\n",
       "      <td>744</td>\n",
       "      <td>3400</td>\n",
       "      <td>91</td>\n",
       "      <td>Other</td>\n",
       "      <td>Jupyter Notebook</td>\n",
       "      <td>False</td>\n",
       "      <td>200</td>\n",
       "      <td>651</td>\n",
       "      <td>0.0</td>\n",
       "    </tr>\n",
       "    <tr>\n",
       "      <th>72</th>\n",
       "      <td>83</td>\n",
       "      <td>Workflow Tools</td>\n",
       "      <td>Kedro</td>\n",
       "      <td>quantumblacklabs</td>\n",
       "      <td>kedro</td>\n",
       "      <td>master</td>\n",
       "      <td>1219</td>\n",
       "      <td>False</td>\n",
       "      <td>444</td>\n",
       "      <td>3823</td>\n",
       "      <td>90</td>\n",
       "      <td>Other</td>\n",
       "      <td>Python</td>\n",
       "      <td>False</td>\n",
       "      <td>38</td>\n",
       "      <td>423</td>\n",
       "      <td>0.0</td>\n",
       "    </tr>\n",
       "    <tr>\n",
       "      <th>75</th>\n",
       "      <td>86</td>\n",
       "      <td>Workflow Tools</td>\n",
       "      <td>MLRun</td>\n",
       "      <td>mlrun</td>\n",
       "      <td>mlrun</td>\n",
       "      <td>development</td>\n",
       "      <td>1171</td>\n",
       "      <td>False</td>\n",
       "      <td>83</td>\n",
       "      <td>338</td>\n",
       "      <td>9</td>\n",
       "      <td>Other</td>\n",
       "      <td>Python</td>\n",
       "      <td>False</td>\n",
       "      <td>21</td>\n",
       "      <td>84</td>\n",
       "      <td>0.0</td>\n",
       "    </tr>\n",
       "  </tbody>\n",
       "</table>\n",
       "</div>"
      ],
      "text/plain": [
       "    gspread_row               use_area         tool_name        repo_owner  \\\n",
       "3             5                 AutoML       AutoSKLearn            automl   \n",
       "4             6                 AutoML             MLBox     AxeldeRomblay   \n",
       "6             8    Cron Job Monitoring          minicron       jamesrwhite   \n",
       "9            11       Data Exploration  Jupyter Notebook           jupyter   \n",
       "21           25     Data Visualization          Metabase          metabase   \n",
       "28           33  Hyperparameter Tuning          Hyperopt          hyperopt   \n",
       "45           53          Model Serving      PredictionIO            apache   \n",
       "52           61     Optimization Tools           Horovod           horovod   \n",
       "54           64     Optimization Tools             Modin     modin-project   \n",
       "62           73   Simplification Tools           PyCaret           pycaret   \n",
       "72           83         Workflow Tools             Kedro  quantumblacklabs   \n",
       "75           86         Workflow Tools             MLRun             mlrun   \n",
       "\n",
       "             repo_name  main_branch  total_commits  last_commit_check  \\\n",
       "3         auto-sklearn       master           2457              False   \n",
       "4                MLBox       master           1121               True   \n",
       "6             minicron       master           1249               True   \n",
       "9             notebook       master          12046              False   \n",
       "21            metabase       master          20588              False   \n",
       "28            hyperopt       master           1172              False   \n",
       "45  attic-predictionio      develop           4495               True   \n",
       "52             horovod       master            930              False   \n",
       "54               modin       master           1359              False   \n",
       "62             pycaret       master           1737              False   \n",
       "72               kedro       master           1219              False   \n",
       "75               mlrun  development           1171              False   \n",
       "\n",
       "    fork_count  stars_count  watchers_count                     license_name  \\\n",
       "3         1017         5403             220                            Other   \n",
       "4          254         1221              67                            Other   \n",
       "6          165         2344              83  GNU General Public License v3.0   \n",
       "9         3391         8239             317                            Other   \n",
       "21        3313        24761             635                            Other   \n",
       "28         883         5591             129                            Other   \n",
       "45        2021        12508             773               Apache License 2.0   \n",
       "52        1822        11183             333                            Other   \n",
       "54         432         6035             107                            Other   \n",
       "62         744         3400              91                            Other   \n",
       "72         444         3823              90                            Other   \n",
       "75          83          338               9                            Other   \n",
       "\n",
       "    primary_language  is_archived  open_issues  closed_issues  rank  \n",
       "3             Python        False           96            612   0.0  \n",
       "4             Python        False           13             73   0.0  \n",
       "6               Ruby        False           44            190   0.0  \n",
       "9         JavaScript        False         1985           2223   0.0  \n",
       "21           Clojure        False         2086           6788   0.0  \n",
       "28            Python        False          341            225   0.0  \n",
       "45             Scala         True            0              0   0.0  \n",
       "52            Python        False          223           1550   0.0  \n",
       "54            Python        False          497           1214   0.0  \n",
       "62  Jupyter Notebook        False          200            651   0.0  \n",
       "72            Python        False           38            423   0.0  \n",
       "75            Python        False           21             84   0.0  "
      ]
     },
     "execution_count": 9,
     "metadata": {},
     "output_type": "execute_result"
    }
   ],
   "source": [
    "disqualified.loc[disqualified['total_commits'] > 500]"
   ]
  },
  {
   "cell_type": "code",
   "execution_count": 10,
   "metadata": {
    "colab": {
     "base_uri": "https://localhost:8080/",
     "height": 300
    },
    "id": "FVjLvAVt0HnD",
    "outputId": "75e477d9-4acd-4be2-c775-4c687ccdf9d5"
   },
   "outputs": [
    {
     "data": {
      "text/html": [
       "<div>\n",
       "<style scoped>\n",
       "    .dataframe tbody tr th:only-of-type {\n",
       "        vertical-align: middle;\n",
       "    }\n",
       "\n",
       "    .dataframe tbody tr th {\n",
       "        vertical-align: top;\n",
       "    }\n",
       "\n",
       "    .dataframe thead th {\n",
       "        text-align: right;\n",
       "    }\n",
       "</style>\n",
       "<table border=\"1\" class=\"dataframe\">\n",
       "  <thead>\n",
       "    <tr style=\"text-align: right;\">\n",
       "      <th></th>\n",
       "      <th>gspread_row</th>\n",
       "      <th>total_commits</th>\n",
       "      <th>fork_count</th>\n",
       "      <th>stars_count</th>\n",
       "      <th>watchers_count</th>\n",
       "      <th>open_issues</th>\n",
       "      <th>closed_issues</th>\n",
       "      <th>rank</th>\n",
       "    </tr>\n",
       "  </thead>\n",
       "  <tbody>\n",
       "    <tr>\n",
       "      <th>count</th>\n",
       "      <td>63.000000</td>\n",
       "      <td>63.000000</td>\n",
       "      <td>63.000000</td>\n",
       "      <td>63.000000</td>\n",
       "      <td>63.000000</td>\n",
       "      <td>63.000000</td>\n",
       "      <td>63.000000</td>\n",
       "      <td>63.000000</td>\n",
       "    </tr>\n",
       "    <tr>\n",
       "      <th>mean</th>\n",
       "      <td>45.650794</td>\n",
       "      <td>3417.476190</td>\n",
       "      <td>1415.714286</td>\n",
       "      <td>6154.777778</td>\n",
       "      <td>225.095238</td>\n",
       "      <td>195.174603</td>\n",
       "      <td>721.095238</td>\n",
       "      <td>2251.010261</td>\n",
       "    </tr>\n",
       "    <tr>\n",
       "      <th>std</th>\n",
       "      <td>25.476845</td>\n",
       "      <td>5345.280502</td>\n",
       "      <td>3314.340909</td>\n",
       "      <td>7203.099177</td>\n",
       "      <td>343.291455</td>\n",
       "      <td>270.480012</td>\n",
       "      <td>1110.400839</td>\n",
       "      <td>2982.926260</td>\n",
       "    </tr>\n",
       "    <tr>\n",
       "      <th>min</th>\n",
       "      <td>2.000000</td>\n",
       "      <td>66.000000</td>\n",
       "      <td>0.000000</td>\n",
       "      <td>20.000000</td>\n",
       "      <td>1.000000</td>\n",
       "      <td>0.000000</td>\n",
       "      <td>0.000000</td>\n",
       "      <td>32.692308</td>\n",
       "    </tr>\n",
       "    <tr>\n",
       "      <th>25%</th>\n",
       "      <td>23.000000</td>\n",
       "      <td>616.000000</td>\n",
       "      <td>173.500000</td>\n",
       "      <td>1211.500000</td>\n",
       "      <td>46.500000</td>\n",
       "      <td>42.500000</td>\n",
       "      <td>66.000000</td>\n",
       "      <td>536.129758</td>\n",
       "    </tr>\n",
       "    <tr>\n",
       "      <th>50%</th>\n",
       "      <td>46.000000</td>\n",
       "      <td>1640.000000</td>\n",
       "      <td>465.000000</td>\n",
       "      <td>3439.000000</td>\n",
       "      <td>121.000000</td>\n",
       "      <td>89.000000</td>\n",
       "      <td>384.000000</td>\n",
       "      <td>1154.616864</td>\n",
       "    </tr>\n",
       "    <tr>\n",
       "      <th>75%</th>\n",
       "      <td>68.500000</td>\n",
       "      <td>4037.500000</td>\n",
       "      <td>1340.500000</td>\n",
       "      <td>8148.000000</td>\n",
       "      <td>260.000000</td>\n",
       "      <td>207.000000</td>\n",
       "      <td>649.500000</td>\n",
       "      <td>2864.746178</td>\n",
       "    </tr>\n",
       "    <tr>\n",
       "      <th>max</th>\n",
       "      <td>88.000000</td>\n",
       "      <td>30011.000000</td>\n",
       "      <td>23817.000000</td>\n",
       "      <td>38442.000000</td>\n",
       "      <td>2109.000000</td>\n",
       "      <td>1397.000000</td>\n",
       "      <td>5594.000000</td>\n",
       "      <td>17778.615385</td>\n",
       "    </tr>\n",
       "  </tbody>\n",
       "</table>\n",
       "</div>"
      ],
      "text/plain": [
       "       gspread_row  total_commits    fork_count   stars_count  watchers_count  \\\n",
       "count    63.000000      63.000000     63.000000     63.000000       63.000000   \n",
       "mean     45.650794    3417.476190   1415.714286   6154.777778      225.095238   \n",
       "std      25.476845    5345.280502   3314.340909   7203.099177      343.291455   \n",
       "min       2.000000      66.000000      0.000000     20.000000        1.000000   \n",
       "25%      23.000000     616.000000    173.500000   1211.500000       46.500000   \n",
       "50%      46.000000    1640.000000    465.000000   3439.000000      121.000000   \n",
       "75%      68.500000    4037.500000   1340.500000   8148.000000      260.000000   \n",
       "max      88.000000   30011.000000  23817.000000  38442.000000     2109.000000   \n",
       "\n",
       "       open_issues  closed_issues          rank  \n",
       "count    63.000000      63.000000     63.000000  \n",
       "mean    195.174603     721.095238   2251.010261  \n",
       "std     270.480012    1110.400839   2982.926260  \n",
       "min       0.000000       0.000000     32.692308  \n",
       "25%      42.500000      66.000000    536.129758  \n",
       "50%      89.000000     384.000000   1154.616864  \n",
       "75%     207.000000     649.500000   2864.746178  \n",
       "max    1397.000000    5594.000000  17778.615385  "
      ]
     },
     "execution_count": 10,
     "metadata": {},
     "output_type": "execute_result"
    }
   ],
   "source": [
    "qualified.describe()"
   ]
  },
  {
   "cell_type": "code",
   "execution_count": 11,
   "metadata": {
    "id": "5RUVGtpW1JnU"
   },
   "outputs": [],
   "source": [
    "use_areas = qualified['use_area'].unique()"
   ]
  },
  {
   "cell_type": "code",
   "execution_count": 12,
   "metadata": {
    "id": "hl56iAkc1a76"
   },
   "outputs": [],
   "source": [
    "tools_by_use_area = { k: [] for k in use_areas }"
   ]
  },
  {
   "cell_type": "code",
   "execution_count": 13,
   "metadata": {
    "id": "uLCtt38C1rhn"
   },
   "outputs": [],
   "source": [
    "for area in tools_by_use_area.keys():\n",
    "  tools_by_use_area[area] = qualified.loc[qualified['use_area'] == area]"
   ]
  },
  {
   "cell_type": "code",
   "execution_count": 14,
   "metadata": {
    "id": "hGbDUjDQ1zOs"
   },
   "outputs": [],
   "source": [
    "for area in tools_by_use_area.keys():\n",
    "  tools_by_use_area[area] = tools_by_use_area[area].sort_values(by=['rank'], ascending=False)"
   ]
  },
  {
   "cell_type": "code",
   "execution_count": null,
   "metadata": {
    "colab": {
     "base_uri": "https://localhost:8080/",
     "height": 459
    },
    "id": "wInVIINT2OC2",
    "outputId": "ac228256-f334-4ccd-a438-8d0763c03ead"
   },
   "outputs": [],
   "source": []
  },
  {
   "cell_type": "markdown",
   "metadata": {
    "id": "GlFqnN8m3ZcF"
   },
   "source": [
    "# Top 5 by area"
   ]
  },
  {
   "cell_type": "code",
   "execution_count": 15,
   "metadata": {
    "id": "x4KFlXSO3Op0"
   },
   "outputs": [],
   "source": [
    "top_5_by_area = {}\n",
    "for area in tools_by_use_area.keys():\n",
    "  top_5_by_area[area] = tools_by_use_area[area].head(5)"
   ]
  },
  {
   "cell_type": "code",
   "execution_count": 16,
   "metadata": {
    "id": "s6sVS1vB3d6r"
   },
   "outputs": [],
   "source": [
    "def plot_area(area, use_area):\n",
    "  labels = area['tool_name']\n",
    "  values = area['rank']\n",
    "\n",
    "  fig, ax = plt.subplots()\n",
    "  ax.barh(labels, values, align='center')\n",
    "  ax.set_xlabel(\"Rank\")\n",
    "  ax.set_title(use_area)\n",
    "\n",
    "  plt.show()"
   ]
  },
  {
   "cell_type": "code",
   "execution_count": 17,
   "metadata": {
    "colab": {
     "base_uri": "https://localhost:8080/",
     "height": 1000
    },
    "id": "Kn_1kTHT5zMO",
    "outputId": "40f63f1a-0a84-46e8-d589-99a4cb149ce8"
   },
   "outputs": [
    {
     "data": {
      "image/png": "[encoded data removed]",
      "text/plain": [
       "<Figure size 432x288 with 1 Axes>"
      ]
     },
     "metadata": {
      "needs_background": "light"
     },
     "output_type": "display_data"
    },
    {
     "data": {
      "image/png": "[encoded data removed]",
      "text/plain": [
       "<Figure size 432x288 with 1 Axes>"
      ]
     },
     "metadata": {
      "needs_background": "light"
     },
     "output_type": "display_data"
    },
    {
     "data": {
      "image/png": "[encoded data removed]",
      "text/plain": [
       "<Figure size 432x288 with 1 Axes>"
      ]
     },
     "metadata": {
      "needs_background": "light"
     },
     "output_type": "display_data"
    },
    {
     "data": {
      "image/png": "[encoded data removed]",
      "text/plain": [
       "<Figure size 432x288 with 1 Axes>"
      ]
     },
     "metadata": {
      "needs_background": "light"
     },
     "output_type": "display_data"
    },
    {
     "data": {
      "image/png": "[encoded data removed]",
      "text/plain": [
       "<Figure size 432x288 with 1 Axes>"
      ]
     },
     "metadata": {
      "needs_background": "light"
     },
     "output_type": "display_data"
    },
    {
     "data": {
      "image/png": "[encoded data removed]",
      "text/plain": [
       "<Figure size 432x288 with 1 Axes>"
      ]
     },
     "metadata": {
      "needs_background": "light"
     },
     "output_type": "display_data"
    },
    {
     "data": {
      "image/png": "[encoded data removed]",
      "text/plain": [
       "<Figure size 432x288 with 1 Axes>"
      ]
     },
     "metadata": {
      "needs_background": "light"
     },
     "output_type": "display_data"
    },
    {
     "data": {
      "image/png": "[encoded data removed]",
      "text/plain": [
       "<Figure size 432x288 with 1 Axes>"
      ]
     },
     "metadata": {
      "needs_background": "light"
     },
     "output_type": "display_data"
    },
    {
     "data": {
      "image/png": "[encoded data removed]",
      "text/plain": [
       "<Figure size 432x288 with 1 Axes>"
      ]
     },
     "metadata": {
      "needs_background": "light"
     },
     "output_type": "display_data"
    },
    {
     "data": {
      "image/png": "[encoded data removed]",
      "text/plain": [
       "<Figure size 432x288 with 1 Axes>"
      ]
     },
     "metadata": {
      "needs_background": "light"
     },
     "output_type": "display_data"
    },
    {
     "data": {
      "image/png": "[encoded data removed]",
      "text/plain": [
       "<Figure size 432x288 with 1 Axes>"
      ]
     },
     "metadata": {
      "needs_background": "light"
     },
     "output_type": "display_data"
    },
    {
     "data": {
      "image/png": "[encoded data removed]",
      "text/plain": [
       "<Figure size 432x288 with 1 Axes>"
      ]
     },
     "metadata": {
      "needs_background": "light"
     },
     "output_type": "display_data"
    },
    {
     "data": {
      "image/png": "[encoded data removed]",
      "text/plain": [
       "<Figure size 432x288 with 1 Axes>"
      ]
     },
     "metadata": {
      "needs_background": "light"
     },
     "output_type": "display_data"
    },
    {
     "data": {
      "image/png": "[encoded data removed]",
      "text/plain": [
       "<Figure size 432x288 with 1 Axes>"
      ]
     },
     "metadata": {
      "needs_background": "light"
     },
     "output_type": "display_data"
    },
    {
     "data": {
      "image/png": "[encoded data removed]",
      "text/plain": [
       "<Figure size 432x288 with 1 Axes>"
      ]
     },
     "metadata": {
      "needs_background": "light"
     },
     "output_type": "display_data"
    },
    {
     "data": {
      "image/png": "[encoded data removed]",
      "text/plain": [
       "<Figure size 432x288 with 1 Axes>"
      ]
     },
     "metadata": {
      "needs_background": "light"
     },
     "output_type": "display_data"
    },
    {
     "data": {
      "image/png": "[encoded data removed]",
      "text/plain": [
       "<Figure size 432x288 with 1 Axes>"
      ]
     },
     "metadata": {
      "needs_background": "light"
     },
     "output_type": "display_data"
    }
   ],
   "source": [
    "for area in top_5_by_area:\n",
    "  plot_area(top_5_by_area[area], area)"
   ]
  },
  {
   "cell_type": "code",
   "execution_count": null,
   "metadata": {
    "id": "VY_KZmJ053WM"
   },
   "outputs": [],
   "source": []
  }
 ],
 "metadata": {
  "colab": {
   "collapsed_sections": [],
   "name": "RankingMLTools.ipynb",
   "provenance": []
  },
  "kernelspec": {
   "display_name": "Python 3",
   "language": "python",
   "name": "python3"
  },
  "language_info": {
   "codemirror_mode": {
    "name": "ipython",
    "version": 3
   },
   "file_extension": ".py",
   "mimetype": "text/x-python",
   "name": "python",
   "nbconvert_exporter": "python",
   "pygments_lexer": "ipython3",
   "version": "3.9.0"
  }
 },
 "nbformat": 4,
 "nbformat_minor": 1
}
