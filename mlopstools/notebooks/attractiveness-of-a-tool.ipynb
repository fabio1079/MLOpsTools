{
 "cells": [
  {
   "cell_type": "code",
   "execution_count": 1,
   "id": "3f23fdde",
   "metadata": {},
   "outputs": [],
   "source": [
    "import pandas as pd"
   ]
  },
  {
   "cell_type": "code",
   "execution_count": 2,
   "id": "6119ab2d",
   "metadata": {},
   "outputs": [],
   "source": [
    "import matplotlib.pyplot as plt"
   ]
  },
  {
   "cell_type": "code",
   "execution_count": 3,
   "id": "7cd09f46",
   "metadata": {},
   "outputs": [],
   "source": [
    "df = pd.read_csv(\"https://raw.githubusercontent.com/fabio1079/MLOpsTools/main/mlopstools/csvdata/2021-05-14.csv\", sep=\";\")"
   ]
  },
  {
   "cell_type": "code",
   "execution_count": 4,
   "id": "4e9727a4",
   "metadata": {},
   "outputs": [],
   "source": [
    "def attractiveness(commit_check, watchers, stars, forks):\n",
    "    if commit_check:\n",
    "        return 0.0\n",
    "    return (watchers + stars + forks) / 3.0"
   ]
  },
  {
   "cell_type": "code",
   "execution_count": 5,
   "id": "47e952a8",
   "metadata": {},
   "outputs": [],
   "source": [
    "ranks = []\n",
    "for index, row in df.iterrows():\n",
    "  rank = attractiveness(\n",
    "      row['last_commit_check'],\n",
    "      row['watchers_count'],\n",
    "      row['stars_count'],\n",
    "      row['fork_count'])\n",
    "  ranks.append(rank)"
   ]
  },
  {
   "cell_type": "code",
   "execution_count": 6,
   "id": "37bd30e2",
   "metadata": {},
   "outputs": [],
   "source": [
    "df = df.assign(attractiveness=ranks)"
   ]
  },
  {
   "cell_type": "code",
   "execution_count": 7,
   "id": "fff94fc4",
   "metadata": {},
   "outputs": [],
   "source": [
    "disqualified = df.loc[df['attractiveness'] == 0]\n",
    "qualified = df.loc[df['attractiveness'] > 0]"
   ]
  },
  {
   "cell_type": "code",
   "execution_count": 8,
   "id": "34394b0d",
   "metadata": {},
   "outputs": [
    {
     "name": "stdout",
     "output_type": "stream",
     "text": [
      "Total qualified\n",
      "73\n",
      "Total disqualified\n",
      "5\n"
     ]
    }
   ],
   "source": [
    "print(\"Total qualified\")\n",
    "print(len(qualified))\n",
    "print(\"Total disqualified\")\n",
    "print(len(disqualified))"
   ]
  },
  {
   "cell_type": "code",
   "execution_count": 9,
   "id": "c59d64f9",
   "metadata": {},
   "outputs": [
    {
     "data": {
      "text/html": [
       "<div>\n",
       "<style scoped>\n",
       "    .dataframe tbody tr th:only-of-type {\n",
       "        vertical-align: middle;\n",
       "    }\n",
       "\n",
       "    .dataframe tbody tr th {\n",
       "        vertical-align: top;\n",
       "    }\n",
       "\n",
       "    .dataframe thead th {\n",
       "        text-align: right;\n",
       "    }\n",
       "</style>\n",
       "<table border=\"1\" class=\"dataframe\">\n",
       "  <thead>\n",
       "    <tr style=\"text-align: right;\">\n",
       "      <th></th>\n",
       "      <th>gspread_row</th>\n",
       "      <th>use_area</th>\n",
       "      <th>tool_name</th>\n",
       "      <th>repo_owner</th>\n",
       "      <th>repo_name</th>\n",
       "      <th>main_branch</th>\n",
       "      <th>total_commits</th>\n",
       "      <th>last_commit_check</th>\n",
       "      <th>fork_count</th>\n",
       "      <th>stars_count</th>\n",
       "      <th>watchers_count</th>\n",
       "      <th>license_name</th>\n",
       "      <th>primary_language</th>\n",
       "      <th>is_archived</th>\n",
       "      <th>open_issues</th>\n",
       "      <th>closed_issues</th>\n",
       "      <th>attractiveness</th>\n",
       "    </tr>\n",
       "  </thead>\n",
       "  <tbody>\n",
       "    <tr>\n",
       "      <th>4</th>\n",
       "      <td>6</td>\n",
       "      <td>AutoML</td>\n",
       "      <td>MLBox</td>\n",
       "      <td>AxeldeRomblay</td>\n",
       "      <td>MLBox</td>\n",
       "      <td>master</td>\n",
       "      <td>1121</td>\n",
       "      <td>True</td>\n",
       "      <td>254</td>\n",
       "      <td>1221</td>\n",
       "      <td>67</td>\n",
       "      <td>Other</td>\n",
       "      <td>Python</td>\n",
       "      <td>False</td>\n",
       "      <td>14</td>\n",
       "      <td>73</td>\n",
       "      <td>0.0</td>\n",
       "    </tr>\n",
       "    <tr>\n",
       "      <th>6</th>\n",
       "      <td>8</td>\n",
       "      <td>Cron Job Monitoring</td>\n",
       "      <td>minicron</td>\n",
       "      <td>jamesrwhite</td>\n",
       "      <td>minicron</td>\n",
       "      <td>master</td>\n",
       "      <td>1249</td>\n",
       "      <td>True</td>\n",
       "      <td>165</td>\n",
       "      <td>2344</td>\n",
       "      <td>83</td>\n",
       "      <td>GNU General Public License v3.0</td>\n",
       "      <td>Ruby</td>\n",
       "      <td>False</td>\n",
       "      <td>45</td>\n",
       "      <td>190</td>\n",
       "      <td>0.0</td>\n",
       "    </tr>\n",
       "    <tr>\n",
       "      <th>43</th>\n",
       "      <td>51</td>\n",
       "      <td>Model Serving</td>\n",
       "      <td>GraphPipe</td>\n",
       "      <td>oracle</td>\n",
       "      <td>graphpipe</td>\n",
       "      <td>master</td>\n",
       "      <td>29</td>\n",
       "      <td>True</td>\n",
       "      <td>108</td>\n",
       "      <td>720</td>\n",
       "      <td>57</td>\n",
       "      <td>Other</td>\n",
       "      <td>Makefile</td>\n",
       "      <td>True</td>\n",
       "      <td>12</td>\n",
       "      <td>1</td>\n",
       "      <td>0.0</td>\n",
       "    </tr>\n",
       "    <tr>\n",
       "      <th>45</th>\n",
       "      <td>53</td>\n",
       "      <td>Model Serving</td>\n",
       "      <td>PredictionIO</td>\n",
       "      <td>apache</td>\n",
       "      <td>attic-predictionio</td>\n",
       "      <td>develop</td>\n",
       "      <td>4495</td>\n",
       "      <td>True</td>\n",
       "      <td>2022</td>\n",
       "      <td>12508</td>\n",
       "      <td>772</td>\n",
       "      <td>Apache License 2.0</td>\n",
       "      <td>Scala</td>\n",
       "      <td>True</td>\n",
       "      <td>0</td>\n",
       "      <td>0</td>\n",
       "      <td>0.0</td>\n",
       "    </tr>\n",
       "    <tr>\n",
       "      <th>65</th>\n",
       "      <td>76</td>\n",
       "      <td>Visual Analysis and Debugging</td>\n",
       "      <td>Manifold</td>\n",
       "      <td>uber</td>\n",
       "      <td>manifold</td>\n",
       "      <td>master</td>\n",
       "      <td>170</td>\n",
       "      <td>True</td>\n",
       "      <td>107</td>\n",
       "      <td>1464</td>\n",
       "      <td>58</td>\n",
       "      <td>Apache License 2.0</td>\n",
       "      <td>JavaScript</td>\n",
       "      <td>False</td>\n",
       "      <td>31</td>\n",
       "      <td>36</td>\n",
       "      <td>0.0</td>\n",
       "    </tr>\n",
       "  </tbody>\n",
       "</table>\n",
       "</div>"
      ],
      "text/plain": [
       "    gspread_row                       use_area     tool_name     repo_owner  \\\n",
       "4             6                         AutoML         MLBox  AxeldeRomblay   \n",
       "6             8            Cron Job Monitoring      minicron    jamesrwhite   \n",
       "43           51                  Model Serving     GraphPipe         oracle   \n",
       "45           53                  Model Serving  PredictionIO         apache   \n",
       "65           76  Visual Analysis and Debugging      Manifold           uber   \n",
       "\n",
       "             repo_name main_branch  total_commits  last_commit_check  \\\n",
       "4                MLBox      master           1121               True   \n",
       "6             minicron      master           1249               True   \n",
       "43           graphpipe      master             29               True   \n",
       "45  attic-predictionio     develop           4495               True   \n",
       "65            manifold      master            170               True   \n",
       "\n",
       "    fork_count  stars_count  watchers_count                     license_name  \\\n",
       "4          254         1221              67                            Other   \n",
       "6          165         2344              83  GNU General Public License v3.0   \n",
       "43         108          720              57                            Other   \n",
       "45        2022        12508             772               Apache License 2.0   \n",
       "65         107         1464              58               Apache License 2.0   \n",
       "\n",
       "   primary_language  is_archived  open_issues  closed_issues  attractiveness  \n",
       "4            Python        False           14             73             0.0  \n",
       "6              Ruby        False           45            190             0.0  \n",
       "43         Makefile         True           12              1             0.0  \n",
       "45            Scala         True            0              0             0.0  \n",
       "65       JavaScript        False           31             36             0.0  "
      ]
     },
     "execution_count": 9,
     "metadata": {},
     "output_type": "execute_result"
    }
   ],
   "source": [
    "disqualified"
   ]
  },
  {
   "cell_type": "code",
   "execution_count": 10,
   "id": "80bae7a1",
   "metadata": {},
   "outputs": [
    {
     "data": {
      "text/html": [
       "<div>\n",
       "<style scoped>\n",
       "    .dataframe tbody tr th:only-of-type {\n",
       "        vertical-align: middle;\n",
       "    }\n",
       "\n",
       "    .dataframe tbody tr th {\n",
       "        vertical-align: top;\n",
       "    }\n",
       "\n",
       "    .dataframe thead th {\n",
       "        text-align: right;\n",
       "    }\n",
       "</style>\n",
       "<table border=\"1\" class=\"dataframe\">\n",
       "  <thead>\n",
       "    <tr style=\"text-align: right;\">\n",
       "      <th></th>\n",
       "      <th>gspread_row</th>\n",
       "      <th>total_commits</th>\n",
       "      <th>fork_count</th>\n",
       "      <th>stars_count</th>\n",
       "      <th>watchers_count</th>\n",
       "      <th>open_issues</th>\n",
       "      <th>closed_issues</th>\n",
       "      <th>attractiveness</th>\n",
       "    </tr>\n",
       "  </thead>\n",
       "  <tbody>\n",
       "    <tr>\n",
       "      <th>count</th>\n",
       "      <td>73.000000</td>\n",
       "      <td>73.000000</td>\n",
       "      <td>73.000000</td>\n",
       "      <td>73.000000</td>\n",
       "      <td>73.000000</td>\n",
       "      <td>73.000000</td>\n",
       "      <td>73.000000</td>\n",
       "      <td>73.000000</td>\n",
       "    </tr>\n",
       "    <tr>\n",
       "      <th>mean</th>\n",
       "      <td>45.876712</td>\n",
       "      <td>3545.000000</td>\n",
       "      <td>1395.164384</td>\n",
       "      <td>6296.219178</td>\n",
       "      <td>221.520548</td>\n",
       "      <td>246.013699</td>\n",
       "      <td>816.808219</td>\n",
       "      <td>2637.634703</td>\n",
       "    </tr>\n",
       "    <tr>\n",
       "      <th>std</th>\n",
       "      <td>25.875742</td>\n",
       "      <td>5509.956337</td>\n",
       "      <td>3108.890933</td>\n",
       "      <td>7136.630677</td>\n",
       "      <td>325.381746</td>\n",
       "      <td>398.975928</td>\n",
       "      <td>1279.264444</td>\n",
       "      <td>3307.226327</td>\n",
       "    </tr>\n",
       "    <tr>\n",
       "      <th>min</th>\n",
       "      <td>2.000000</td>\n",
       "      <td>66.000000</td>\n",
       "      <td>0.000000</td>\n",
       "      <td>20.000000</td>\n",
       "      <td>1.000000</td>\n",
       "      <td>0.000000</td>\n",
       "      <td>0.000000</td>\n",
       "      <td>7.000000</td>\n",
       "    </tr>\n",
       "    <tr>\n",
       "      <th>25%</th>\n",
       "      <td>24.000000</td>\n",
       "      <td>638.000000</td>\n",
       "      <td>211.000000</td>\n",
       "      <td>1400.000000</td>\n",
       "      <td>49.000000</td>\n",
       "      <td>45.000000</td>\n",
       "      <td>84.000000</td>\n",
       "      <td>510.333333</td>\n",
       "    </tr>\n",
       "    <tr>\n",
       "      <th>50%</th>\n",
       "      <td>46.000000</td>\n",
       "      <td>1567.000000</td>\n",
       "      <td>471.000000</td>\n",
       "      <td>3764.000000</td>\n",
       "      <td>120.000000</td>\n",
       "      <td>92.000000</td>\n",
       "      <td>426.000000</td>\n",
       "      <td>1453.666667</td>\n",
       "    </tr>\n",
       "    <tr>\n",
       "      <th>75%</th>\n",
       "      <td>69.000000</td>\n",
       "      <td>3993.000000</td>\n",
       "      <td>1399.000000</td>\n",
       "      <td>8255.000000</td>\n",
       "      <td>269.000000</td>\n",
       "      <td>269.000000</td>\n",
       "      <td>843.000000</td>\n",
       "      <td>3275.000000</td>\n",
       "    </tr>\n",
       "    <tr>\n",
       "      <th>max</th>\n",
       "      <td>88.000000</td>\n",
       "      <td>30062.000000</td>\n",
       "      <td>23834.000000</td>\n",
       "      <td>38501.000000</td>\n",
       "      <td>2109.000000</td>\n",
       "      <td>2114.000000</td>\n",
       "      <td>6816.000000</td>\n",
       "      <td>18529.666667</td>\n",
       "    </tr>\n",
       "  </tbody>\n",
       "</table>\n",
       "</div>"
      ],
      "text/plain": [
       "       gspread_row  total_commits    fork_count   stars_count  watchers_count  \\\n",
       "count    73.000000      73.000000     73.000000     73.000000       73.000000   \n",
       "mean     45.876712    3545.000000   1395.164384   6296.219178      221.520548   \n",
       "std      25.875742    5509.956337   3108.890933   7136.630677      325.381746   \n",
       "min       2.000000      66.000000      0.000000     20.000000        1.000000   \n",
       "25%      24.000000     638.000000    211.000000   1400.000000       49.000000   \n",
       "50%      46.000000    1567.000000    471.000000   3764.000000      120.000000   \n",
       "75%      69.000000    3993.000000   1399.000000   8255.000000      269.000000   \n",
       "max      88.000000   30062.000000  23834.000000  38501.000000     2109.000000   \n",
       "\n",
       "       open_issues  closed_issues  attractiveness  \n",
       "count    73.000000      73.000000       73.000000  \n",
       "mean    246.013699     816.808219     2637.634703  \n",
       "std     398.975928    1279.264444     3307.226327  \n",
       "min       0.000000       0.000000        7.000000  \n",
       "25%      45.000000      84.000000      510.333333  \n",
       "50%      92.000000     426.000000     1453.666667  \n",
       "75%     269.000000     843.000000     3275.000000  \n",
       "max    2114.000000    6816.000000    18529.666667  "
      ]
     },
     "execution_count": 10,
     "metadata": {},
     "output_type": "execute_result"
    }
   ],
   "source": [
    "qualified.describe()"
   ]
  },
  {
   "cell_type": "code",
   "execution_count": 11,
   "id": "10f413d6",
   "metadata": {},
   "outputs": [],
   "source": [
    "use_areas = qualified['use_area'].unique()\n",
    "tools_by_use_area = { k: [] for k in use_areas }"
   ]
  },
  {
   "cell_type": "code",
   "execution_count": 12,
   "id": "ec0d5414",
   "metadata": {},
   "outputs": [],
   "source": [
    "for area in tools_by_use_area.keys():\n",
    "  tools_by_use_area[area] = qualified.loc[qualified['use_area'] == area]\n",
    "\n",
    "for area in tools_by_use_area.keys():\n",
    "  tools_by_use_area[area] = tools_by_use_area[area].sort_values(by=['attractiveness'], ascending=False)"
   ]
  },
  {
   "cell_type": "code",
   "execution_count": 13,
   "id": "2a3720ff",
   "metadata": {},
   "outputs": [],
   "source": [
    "def plot_area(area, use_area):\n",
    "  labels = area['tool_name']\n",
    "  values = area['attractiveness']\n",
    "\n",
    "  fig, ax = plt.subplots()\n",
    "  ax.barh(labels, values, align='center')\n",
    "  ax.set_xlabel(\"Atratividade\")\n",
    "  ax.set_title(use_area)\n",
    "\n",
    "  plt.show()"
   ]
  },
  {
   "cell_type": "code",
   "execution_count": 14,
   "id": "0dab1237",
   "metadata": {},
   "outputs": [
    {
     "data": {
      "text/plain": [
       "array(['AutoML', 'CI/CD ', 'Cron Job Monitoring', 'Data Exploration',\n",
       "       'Data Management', 'Data Processing', 'Data Validation',\n",
       "       'Data Visualization', 'Feature Store', 'Hyperparameter Tuning',\n",
       "       'Model Interpretability', 'Model Lifecycle', 'Model Serving',\n",
       "       'Optimization Tools', 'Simplification Tools',\n",
       "       'Visual Analysis and Debugging', 'Workflow Tools'], dtype=object)"
      ]
     },
     "execution_count": 14,
     "metadata": {},
     "output_type": "execute_result"
    }
   ],
   "source": [
    "use_areas"
   ]
  },
  {
   "cell_type": "code",
   "execution_count": 15,
   "id": "1a41f03d",
   "metadata": {},
   "outputs": [
    {
     "data": {
      "image/png": "[encoded data removed]",
      "text/plain": [
       "<Figure size 432x288 with 1 Axes>"
      ]
     },
     "metadata": {
      "needs_background": "light"
     },
     "output_type": "display_data"
    }
   ],
   "source": [
    "plot_area(tools_by_use_area['Data Exploration'], 'Data Exploration')"
   ]
  },
  {
   "cell_type": "code",
   "execution_count": 16,
   "id": "5ecc8e18",
   "metadata": {},
   "outputs": [
    {
     "data": {
      "image/png": "[encoded data removed]",
      "text/plain": [
       "<Figure size 432x288 with 1 Axes>"
      ]
     },
     "metadata": {
      "needs_background": "light"
     },
     "output_type": "display_data"
    }
   ],
   "source": [
    "plot_area(tools_by_use_area['Data Processing'], 'Data Processing')"
   ]
  },
  {
   "cell_type": "code",
   "execution_count": 17,
   "id": "96777c80",
   "metadata": {},
   "outputs": [
    {
     "data": {
      "image/png": "[encoded data removed]",
      "text/plain": [
       "<Figure size 432x288 with 1 Axes>"
      ]
     },
     "metadata": {
      "needs_background": "light"
     },
     "output_type": "display_data"
    }
   ],
   "source": [
    "plot_area(tools_by_use_area['Data Visualization'], 'Data Visualization')"
   ]
  },
  {
   "cell_type": "code",
   "execution_count": 18,
   "id": "b0b4bcd7",
   "metadata": {},
   "outputs": [],
   "source": [
    "mlops_monitoring = pd.concat([tools_by_use_area['Cron Job Monitoring'], tools_by_use_area['Model Lifecycle'], tools_by_use_area['Visual Analysis and Debugging']])"
   ]
  },
  {
   "cell_type": "code",
   "execution_count": 19,
   "id": "55a2c9e9",
   "metadata": {},
   "outputs": [
    {
     "data": {
      "text/html": [
       "<div>\n",
       "<style scoped>\n",
       "    .dataframe tbody tr th:only-of-type {\n",
       "        vertical-align: middle;\n",
       "    }\n",
       "\n",
       "    .dataframe tbody tr th {\n",
       "        vertical-align: top;\n",
       "    }\n",
       "\n",
       "    .dataframe thead th {\n",
       "        text-align: right;\n",
       "    }\n",
       "</style>\n",
       "<table border=\"1\" class=\"dataframe\">\n",
       "  <thead>\n",
       "    <tr style=\"text-align: right;\">\n",
       "      <th></th>\n",
       "      <th>gspread_row</th>\n",
       "      <th>total_commits</th>\n",
       "      <th>fork_count</th>\n",
       "      <th>stars_count</th>\n",
       "      <th>watchers_count</th>\n",
       "      <th>open_issues</th>\n",
       "      <th>closed_issues</th>\n",
       "      <th>attractiveness</th>\n",
       "    </tr>\n",
       "  </thead>\n",
       "  <tbody>\n",
       "    <tr>\n",
       "      <th>count</th>\n",
       "      <td>7.000000</td>\n",
       "      <td>7.000000</td>\n",
       "      <td>7.000000</td>\n",
       "      <td>7.000000</td>\n",
       "      <td>7.000000</td>\n",
       "      <td>7.000000</td>\n",
       "      <td>7.000000</td>\n",
       "      <td>7.000000</td>\n",
       "    </tr>\n",
       "    <tr>\n",
       "      <th>mean</th>\n",
       "      <td>49.142857</td>\n",
       "      <td>1959.857143</td>\n",
       "      <td>759.428571</td>\n",
       "      <td>5262.857143</td>\n",
       "      <td>123.857143</td>\n",
       "      <td>152.142857</td>\n",
       "      <td>434.857143</td>\n",
       "      <td>2048.714286</td>\n",
       "    </tr>\n",
       "    <tr>\n",
       "      <th>std</th>\n",
       "      <td>23.448017</td>\n",
       "      <td>1257.549393</td>\n",
       "      <td>780.390684</td>\n",
       "      <td>4842.055398</td>\n",
       "      <td>94.448273</td>\n",
       "      <td>207.093722</td>\n",
       "      <td>356.821351</td>\n",
       "      <td>1882.001618</td>\n",
       "    </tr>\n",
       "    <tr>\n",
       "      <th>min</th>\n",
       "      <td>9.000000</td>\n",
       "      <td>788.000000</td>\n",
       "      <td>55.000000</td>\n",
       "      <td>1209.000000</td>\n",
       "      <td>11.000000</td>\n",
       "      <td>24.000000</td>\n",
       "      <td>40.000000</td>\n",
       "      <td>503.333333</td>\n",
       "    </tr>\n",
       "    <tr>\n",
       "      <th>25%</th>\n",
       "      <td>43.500000</td>\n",
       "      <td>1079.000000</td>\n",
       "      <td>277.000000</td>\n",
       "      <td>2344.500000</td>\n",
       "      <td>76.000000</td>\n",
       "      <td>72.000000</td>\n",
       "      <td>186.000000</td>\n",
       "      <td>891.000000</td>\n",
       "    </tr>\n",
       "    <tr>\n",
       "      <th>50%</th>\n",
       "      <td>46.000000</td>\n",
       "      <td>1675.000000</td>\n",
       "      <td>471.000000</td>\n",
       "      <td>3443.000000</td>\n",
       "      <td>92.000000</td>\n",
       "      <td>79.000000</td>\n",
       "      <td>405.000000</td>\n",
       "      <td>1282.666667</td>\n",
       "    </tr>\n",
       "    <tr>\n",
       "      <th>75%</th>\n",
       "      <td>62.000000</td>\n",
       "      <td>2368.000000</td>\n",
       "      <td>1104.000000</td>\n",
       "      <td>6548.000000</td>\n",
       "      <td>171.500000</td>\n",
       "      <td>100.000000</td>\n",
       "      <td>576.000000</td>\n",
       "      <td>2659.333333</td>\n",
       "    </tr>\n",
       "    <tr>\n",
       "      <th>max</th>\n",
       "      <td>78.000000</td>\n",
       "      <td>4362.000000</td>\n",
       "      <td>2028.000000</td>\n",
       "      <td>14403.000000</td>\n",
       "      <td>269.000000</td>\n",
       "      <td>618.000000</td>\n",
       "      <td>1075.000000</td>\n",
       "      <td>5454.333333</td>\n",
       "    </tr>\n",
       "  </tbody>\n",
       "</table>\n",
       "</div>"
      ],
      "text/plain": [
       "       gspread_row  total_commits   fork_count   stars_count  watchers_count  \\\n",
       "count     7.000000       7.000000     7.000000      7.000000        7.000000   \n",
       "mean     49.142857    1959.857143   759.428571   5262.857143      123.857143   \n",
       "std      23.448017    1257.549393   780.390684   4842.055398       94.448273   \n",
       "min       9.000000     788.000000    55.000000   1209.000000       11.000000   \n",
       "25%      43.500000    1079.000000   277.000000   2344.500000       76.000000   \n",
       "50%      46.000000    1675.000000   471.000000   3443.000000       92.000000   \n",
       "75%      62.000000    2368.000000  1104.000000   6548.000000      171.500000   \n",
       "max      78.000000    4362.000000  2028.000000  14403.000000      269.000000   \n",
       "\n",
       "       open_issues  closed_issues  attractiveness  \n",
       "count     7.000000       7.000000        7.000000  \n",
       "mean    152.142857     434.857143     2048.714286  \n",
       "std     207.093722     356.821351     1882.001618  \n",
       "min      24.000000      40.000000      503.333333  \n",
       "25%      72.000000     186.000000      891.000000  \n",
       "50%      79.000000     405.000000     1282.666667  \n",
       "75%     100.000000     576.000000     2659.333333  \n",
       "max     618.000000    1075.000000     5454.333333  "
      ]
     },
     "execution_count": 19,
     "metadata": {},
     "output_type": "execute_result"
    }
   ],
   "source": [
    "mlops_monitoring.describe()"
   ]
  },
  {
   "cell_type": "code",
   "execution_count": 20,
   "id": "79b7a6e2",
   "metadata": {},
   "outputs": [
    {
     "data": {
      "image/png": "[encoded data removed]",
      "text/plain": [
       "<Figure size 432x288 with 1 Axes>"
      ]
     },
     "metadata": {
      "needs_background": "light"
     },
     "output_type": "display_data"
    }
   ],
   "source": [
    "plot_area(mlops_monitoring, 'MLOps Monitoring Tools')"
   ]
  },
  {
   "cell_type": "code",
   "execution_count": null,
   "id": "718d1e8d",
   "metadata": {},
   "outputs": [],
   "source": []
  }
 ],
 "metadata": {
  "kernelspec": {
   "display_name": "Python 3",
   "language": "python",
   "name": "python3"
  },
  "language_info": {
   "codemirror_mode": {
    "name": "ipython",
    "version": 3
   },
   "file_extension": ".py",
   "mimetype": "text/x-python",
   "name": "python",
   "nbconvert_exporter": "python",
   "pygments_lexer": "ipython3",
   "version": "3.9.0"
  }
 },
 "nbformat": 4,
 "nbformat_minor": 5
}
